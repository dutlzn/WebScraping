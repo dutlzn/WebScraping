{
 "cells": [
  {
   "cell_type": "markdown",
   "metadata": {},
   "source": [
    "### Selenium\n",
    "- 概念：基于浏览器自动化的模块\n",
    "- 自动化：可以通过代码指定一系列的行为动作，然后将其作用到浏览器中\n",
    "- pip install selenium\n",
    "- selenium和爬虫之间的关系\n",
    "    - 1.便捷的捕获任意形式动态加载的数据（可见即可得）\n",
    "    - 2.实现模拟登录\n",
    "\n"
   ]
  },
  {
   "cell_type": "code",
   "execution_count": null,
   "metadata": {},
   "outputs": [],
   "source": [
    "from selenium import webdriver\n",
    "from time import sleep \n",
    "# 1.基于浏览器是的驱动程序实例化一个浏览器对象\n",
    "bro = webdriver.Chrome(executable_path='D:/scrapyfile/chromedriver_win32/chromedriver.exe')\n",
    "bro.get('https://www.jd.com')\n",
    "search_text = bro.find_element_by_xpath('//*[@id=\"key\"]')\n",
    "search_text.send_keys('五年高考三年模拟') # 向标签中输入信息\n",
    "btn = bro.find_element_by_xpath('//*[@id=\"search\"]/div/div[2]/button')\n",
    "btn.click()\n",
    "sleep(2) # 2秒钟\n",
    "# 在搜索结果页面进行滚轮向下滑动的操作，执行js操作\n",
    "# window.scrollTo(0, document.body.scrollHeight)\n",
    "bro.execute_script('window.scrollTo(0, document.body.scrollHeight)')\n",
    "\n",
    "sleep(2)\n",
    "\n",
    "bro.quit()"
   ]
  },
  {
   "cell_type": "markdown",
   "metadata": {},
   "source": [
    "- 如何捕获动态加载的数据\n",
    "    - http://scxk.nmpa.gov.cn:81/xk/\n",
    "    - 前三页所有企业名称爬取"
   ]
  },
  {
   "cell_type": "code",
   "execution_count": null,
   "metadata": {},
   "outputs": [],
   "source": [
    "from lxml import etree \n",
    "import requests\n",
    "from selenium import webdriver\n",
    "from time import sleep \n",
    "page_text_list = [] # 每一页的页面源码数据\n",
    "url = 'http://scxk.nmpa.gov.cn:81/xk/'\n",
    "bro = webdriver.Chrome(executable_path='D:/scrapyfile/chromedriver_win32/chromedriver.exe')\n",
    "bro.get(url)\n",
    "page_text = bro.page_source\n",
    "page_text_list.append(page_text)\n",
    "for i in range(5):\n",
    "    next_page = bro.find_element_by_xpath('//*[@id=\"pageIto_next\"]')\n",
    "    next_page.click()\n",
    "    sleep(2)\n",
    "    page_text_list.append(bro.page_source)\n",
    "\n",
    "    \n",
    "for page_text in page_text_list:\n",
    "    tree = etree.HTML(page_text)\n",
    "    li_list = tree.xpath('//*[@id=\"gzlist\"]/li')\n",
    "    for li in li_list:\n",
    "        name = li.xpath('./dl/@title')[0]\n",
    "#         print(name)\n",
    "        \n",
    "bro.quit()"
   ]
  },
  {
   "cell_type": "code",
   "execution_count": 11,
   "metadata": {},
   "outputs": [
    {
     "name": "stdout",
     "output_type": "stream",
     "text": [
      "发现滑块验证码\n",
      "未发现滑块\n",
      "登录成功\n"
     ]
    }
   ],
   "source": [
    "from selenium import webdriver\n",
    "from selenium.webdriver.common.by import By\n",
    "from selenium.webdriver.support.ui import WebDriverWait\n",
    "from selenium.webdriver.support import expected_conditions as EC\n",
    "from selenium.webdriver import ActionChains\n",
    "import time\n",
    "browser = webdriver.Chrome(executable_path='D:/scrapyfile/chromedriver_win32/chromedriver.exe')\n",
    "# options = webdriver.ChromeOptions()\n",
    "# browser = webdriver.Chrome(options=options)\n",
    "# 防止被监测\n",
    "browser.execute_cdp_cmd(\"Page.addScriptToEvaluateOnNewDocument\", {\n",
    "    \"source\": '''\n",
    "            Object.defineProperty(navigator, 'webdriver', {\n",
    "              get: () => undefined\n",
    "            })\n",
    "          '''\n",
    "})\n",
    "wait = WebDriverWait(browser, 5)\n",
    "\n",
    "def do_slider():\n",
    "    \"\"\"\n",
    "    处理滑动验证码\n",
    "    :return:\n",
    "    \"\"\"\n",
    "    slider_go = wait.until(\n",
    "        EC.presence_of_element_located((By.CSS_SELECTOR, '#nc_1_n1z'))\n",
    "    )\n",
    "    # 实例化一个动作链关联游览器\n",
    "    action = ActionChains(browser)\n",
    "    action.reset_actions()\n",
    "    # 使用鼠标动作链进行点击并悬浮\n",
    "    action.click_and_hold(slider_go)\n",
    "    # 滑动验证码\n",
    "    action.move_by_offset(xoffset=258, yoffset=0).perform()\n",
    "    time.sleep(1)\n",
    "\n",
    "def login(username, password):\n",
    "    browser.get('https://login.taobao.com/member/login.jhtml')\n",
    "    input_username = wait.until(\n",
    "        EC.presence_of_element_located((By.CSS_SELECTOR, '#fm-login-id'))\n",
    "    )\n",
    "    input_password = wait.until(\n",
    "        EC.presence_of_element_located((By.CSS_SELECTOR, '#fm-login-password'))\n",
    "    )\n",
    "    submit = wait.until(\n",
    "        EC.element_to_be_clickable((By.CSS_SELECTOR, '#login-form > div.fm-btn > button'))\n",
    "    )\n",
    "    input_username.send_keys('15024339270')\n",
    "    time.sleep(2)\n",
    "    input_password.send_keys('65874092lznzs')\n",
    "    time.sleep(2)\n",
    "    submit.click()\n",
    "    time.sleep(3)  # 等待检验滑块\n",
    "\n",
    "    # 判断有无滑块验证\n",
    "    try:\n",
    "        slider = wait.until(\n",
    "            EC.presence_of_element_located((By.CSS_SELECTOR, '#nc_1__scale_text > span'))\n",
    "        )\n",
    "        if bool(slider):\n",
    "            print('发现滑块验证码')\n",
    "            time.sleep(2)\n",
    "            do_slider()\n",
    "            submit.click()\n",
    "        else:\n",
    "            print('未发现滑块')\n",
    "            pass\n",
    "    except:\n",
    "        print('未发现滑块')\n",
    "    finally:\n",
    "        print('登录成功')\n",
    "\n",
    "def main():\n",
    "    login(username='', password='')\n",
    "\n",
    "if __name__ == '__main__':\n",
    "     main()"
   ]
  },
  {
   "cell_type": "markdown",
   "metadata": {},
   "source": [
    "### 动作链ActionChains\n",
    "- 动作链：一系列连续的动作（滑动动作)\n"
   ]
  },
  {
   "cell_type": "code",
   "execution_count": null,
   "metadata": {},
   "outputs": [],
   "source": []
  },
  {
   "cell_type": "code",
   "execution_count": null,
   "metadata": {},
   "outputs": [],
   "source": []
  }
 ],
 "metadata": {
  "kernelspec": {
   "display_name": "Python 3",
   "language": "python",
   "name": "python3"
  },
  "language_info": {
   "codemirror_mode": {
    "name": "ipython",
    "version": 3
   },
   "file_extension": ".py",
   "mimetype": "text/x-python",
   "name": "python",
   "nbconvert_exporter": "python",
   "pygments_lexer": "ipython3",
   "version": "3.8.5"
  }
 },
 "nbformat": 4,
 "nbformat_minor": 4
}
